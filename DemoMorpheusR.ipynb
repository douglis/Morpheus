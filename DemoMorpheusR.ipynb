{
 "cells": [
  {
   "cell_type": "markdown",
   "metadata": {},
   "source": [
    "## Demo for Strata Conf: Running Log. Reg. with Morpheus on MovieLens1M 3-table dataset:"
   ]
  },
  {
   "cell_type": "markdown",
   "metadata": {},
   "source": [
    "### Load requisite libraries, source files, and base table data files."
   ]
  },
  {
   "cell_type": "code",
   "execution_count": 2,
   "metadata": {},
   "outputs": [
    {
     "name": "stdout",
     "output_type": "stream",
     "text": [
      "[1] \"Loaded data\"\n"
     ]
    }
   ],
   "source": [
    "library('Matrix');\n",
    "library('matrixStats');\n",
    "library(data.table);\n",
    "source('src/NormalMatrix.r');\n",
    "source('src/MLalgorithms/LogisticRegression.r');\n",
    "\n",
    "S = matrix(0,0,0);\n",
    "Ydir = 'Data/MovieLens1M/MLY.csv';\n",
    "\n",
    "FK1dir = 'Data/MovieLens1M/MLFK1.csv';\n",
    "R1dir = 'Data/MovieLens1M/MLR1Sparse.txt';\n",
    "\n",
    "FK2dir = 'Data/MovieLens1M/MLFK2.csv';\n",
    "R2dir = 'Data/MovieLens1M/MLR2Sparse.txt';\n",
    "\n",
    "Ytest = as.matrix((fread(Ydir)));\n",
    "#Convert 7-class target into a binary target\n",
    "Y = (Ytest > 2.5)+0;\n",
    "\n",
    "JSet1 = as.matrix(read.table(FK1dir,header=TRUE)); \n",
    "nS = nrow(JSet1);\n",
    "nR1 = max(JSet1);\n",
    "FK1 = sparseMatrix(i=c(1:nS),j=JSet1,x=1,dims=c(nS,nR1));\n",
    "R1S = readMM(file=R1dir)+0;\n",
    "\n",
    "JSet2 = as.matrix(read.table(FK2dir,header=TRUE)); \n",
    "nS = nrow(JSet2);\n",
    "nR2 = max(JSet2);\n",
    "FK2 = sparseMatrix(i=c(1:nS),j=JSet2,x=1,dims=c(nS,nR2));\n",
    "R2S = readMM(file=R2dir)+0;\n",
    "\n",
    "print(\"Loaded data\");"
   ]
  },
  {
   "cell_type": "markdown",
   "metadata": {},
   "source": [
    "### Create regular single table (Materialized) matrix."
   ]
  },
  {
   "cell_type": "code",
   "execution_count": 3,
   "metadata": {},
   "outputs": [
    {
     "name": "stdout",
     "output_type": "stream",
     "text": [
      "[1] \"Created Materialized matrix\"\n",
      "Time difference of 2.490081 secs\n"
     ]
    }
   ],
   "source": [
    "t0 = Sys.time();\n",
    "T = cbind(FK1 %*% R1S, FK2 %*% R2S);\n",
    "timetaken = Sys.time()-t0;\n",
    "print(\"Created Materialized matrix\");\n",
    "print(timetaken);"
   ]
  },
  {
   "cell_type": "markdown",
   "metadata": {},
   "source": [
    "### Create Normalized Matrix for Morpheus."
   ]
  },
  {
   "cell_type": "code",
   "execution_count": 4,
   "metadata": {},
   "outputs": [
    {
     "name": "stdout",
     "output_type": "stream",
     "text": [
      "[1] \"Created Normalized matrix\"\n",
      "Time difference of 0.003711939 secs\n"
     ]
    }
   ],
   "source": [
    "t0 = Sys.time();\n",
    "TNM = NormalMatrix(EntTable = list(S),\n",
    "                   AttTables = list(R1S,R2S),\n",
    "                   KFKDs = list(FK1,FK2),\n",
    "                   Sparse = TRUE);\n",
    "timetaken = Sys.time()-t0;\n",
    "print(\"Created Normalized matrix\");\n",
    "print(timetaken);"
   ]
  },
  {
   "cell_type": "markdown",
   "metadata": {},
   "source": [
    "### Initialize Logistic Regression weights and hyper-parameters."
   ]
  },
  {
   "cell_type": "code",
   "execution_count": 5,
   "metadata": {},
   "outputs": [],
   "source": [
    "winit = Matrix(rnorm(ncol(T),2),ncol(T),1,sparse=TRUE);\n",
    "gamma0 = 0.01; # L2 regularizer\n",
    "Max_Iter = 5; # maximum number of iterations/epochs"
   ]
  },
  {
   "cell_type": "markdown",
   "metadata": {},
   "source": [
    "### Run Logistic Regression with regular Materialized matrix."
   ]
  },
  {
   "cell_type": "code",
   "execution_count": 6,
   "metadata": {},
   "outputs": [
    {
     "name": "stdout",
     "output_type": "stream",
     "text": [
      "[1] \"Materialized execution started\"\n",
      "[1] \"Materialized execution done\"\n",
      "Time difference of 10.4957 secs\n"
     ]
    }
   ],
   "source": [
    "print(\"Materialized execution started\");\n",
    "t0 = Sys.time();\n",
    "weightsMat = LogisticRegression(T,Max_Iter, winit, gamma0, Y);\n",
    "timemat = Sys.time()-t0;\n",
    "print(\"Materialized execution done\");\n",
    "print(timemat);"
   ]
  },
  {
   "cell_type": "markdown",
   "metadata": {},
   "source": [
    "### Run Logistic Regression on Morpheus with Normalized matrix."
   ]
  },
  {
   "cell_type": "code",
   "execution_count": 7,
   "metadata": {},
   "outputs": [
    {
     "name": "stdout",
     "output_type": "stream",
     "text": [
      "[1] \"Morpheus execution started\"\n",
      "[1] \"Morpheus execution done\"\n",
      "Time difference of 0.9491551 secs\n",
      "[1] \"Runtime Speedup of Morpheus over Materialized:\"\n",
      "[1] 11.05794\n"
     ]
    }
   ],
   "source": [
    "print(\"Morpheus execution started\");\n",
    "t0 = Sys.time();\n",
    "weightsMorph = LogisticRegression(TNM,Max_Iter, winit, gamma0, Y);\n",
    "timemorph = Sys.time()-t0;\n",
    "print(\"Morpheus execution done\");\n",
    "print(timemorph);\n",
    "print(\"Runtime Speedup of Morpheus over Materialized:\");\n",
    "print(as.numeric(timemat) / as.numeric(timemorph));"
   ]
  },
  {
   "cell_type": "markdown",
   "metadata": {},
   "source": [
    "### Check if both approaches return same weights."
   ]
  },
  {
   "cell_type": "code",
   "execution_count": 8,
   "metadata": {},
   "outputs": [
    {
     "name": "stdout",
     "output_type": "stream",
     "text": [
      "[1] 3.0090147 2.5521603 1.4173721 2.6236962 1.2025118 0.9236351\n",
      "[1] 3.0090147 2.5521603 1.4173721 2.6236962 1.2025118 0.9236351\n"
     ]
    }
   ],
   "source": [
    "print(weightsMat[[1]][1:6]);\n",
    "print(weightsMorph[[1]][1:6]);"
   ]
  },
  {
   "cell_type": "code",
   "execution_count": 9,
   "metadata": {},
   "outputs": [
    {
     "name": "stdout",
     "output_type": "stream",
     "text": [
      "[1] \"Success: Both approches return same weights.\"\n"
     ]
    }
   ],
   "source": [
    "Result_eps = 1e-6; # weight difference tolerance\n",
    "if(norm(as.matrix(weightsMat[[1]] - weightsMorph[[1]]),'F')<Result_eps*(1+norm(as.matrix(weightsMat[[1]]),'F')) )\n",
    "{\n",
    "\tprint(\"Success: Both approches return same weights.\");\n",
    "}else\n",
    "{\n",
    "\tprint(\"Failed: The approches return different weights.\");\n",
    "}"
   ]
  },
  {
   "cell_type": "code",
   "execution_count": null,
   "metadata": {},
   "outputs": [],
   "source": []
  }
 ],
 "metadata": {
  "kernelspec": {
   "display_name": "R",
   "language": "R",
   "name": "ir"
  },
  "language_info": {
   "codemirror_mode": "r",
   "file_extension": ".r",
   "mimetype": "text/x-r-source",
   "name": "R",
   "pygments_lexer": "r",
   "version": "3.5.1"
  }
 },
 "nbformat": 4,
 "nbformat_minor": 2
}
